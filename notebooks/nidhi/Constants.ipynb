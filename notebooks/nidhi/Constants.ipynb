{
 "cells": [
  {
   "cell_type": "code",
   "execution_count": 2,
   "metadata": {},
   "outputs": [],
   "source": [
    "prevention_cols = [\n",
    "    'ACCESS2', 'BPMED', 'CHECKUP', 'CHOLSCREEN',\n",
    "    'COLON_SCREEN', 'COREM', 'COREW', 'DENTAL', 'MAMMOUSE', 'PAPTEST']\n",
    "\n",
    "behavior_cols = ['BINGE', 'CSMOKING', 'LPA', 'OBESITY', 'SLEEP']\n",
    "\n",
    "outcome_cols = [\n",
    "    'ARTHRITIS', 'BPHIGH', 'CANCER',\n",
    "    'CASTHMA', 'CHD', 'COPD',\n",
    "    'DIABETES', 'HIGHCHOL', 'KIDNEY',\n",
    "    'MHLTH', 'PHLTH', 'STROKE', 'TEETHLOST']\n",
    "\n",
    "columns_to_drop = [ 'Year', 'StateAbbr', 'DataSource', 'Measure','Data_Value_Unit',\n",
    "                    'Data_Value_Footnote', 'Data_Value_Type', 'Low_Confidence_Limit',\n",
    "                    'High_Confidence_Limit', 'Data_Value_Footnote_Symbol',\n",
    "                    'CategoryID', 'Short_Question_Text']\n",
    "\n",
    "columns_to_keep = ['StateDesc', 'Category', 'CityName', 'UniqueID', 'GeographicLevel', 'DataValueTypeID',\n",
    "                   'PopulationCount', 'CityFIPS', 'TractFIPS', 'GeoLocation']\n",
    "\n",
    "random_state = 10"
   ]
  }
 ],
 "metadata": {
  "kernelspec": {
   "display_name": "Python 3",
   "language": "python",
   "name": "python3"
  },
  "language_info": {
   "codemirror_mode": {
    "name": "ipython",
    "version": 3
   },
   "file_extension": ".py",
   "mimetype": "text/x-python",
   "name": "python",
   "nbconvert_exporter": "python",
   "pygments_lexer": "ipython3",
   "version": "3.7.3"
  }
 },
 "nbformat": 4,
 "nbformat_minor": 2
}
