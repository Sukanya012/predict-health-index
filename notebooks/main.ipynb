{
 "cells": [
  {
   "cell_type": "markdown",
   "metadata": {},
   "source": [
    "## Step 1: Problem statement\n",
    "\n",
    "PROBLEM: To identify emerging health problems in US amoung adults and to inform development and implementation of effective, targeted public health prevention activities.\n",
    "\n",
    "SOLUTION: To provide quality health estimates for 500 cities in the US by providing data estimates for 27 measures of chronic disease related to unhealthy behaviors (5), health outcomes (13), and use of preventive services (9) and focus their efforts to improve Health.\n",
    "\n",
    "DATASOURCE: Data sources used to generate these measures include:\n",
    "-            . Behavioral Risk Factor Surveillance System (BRFSS) data (2017, 2016), \\n\n",
    "-            . Census Bureau 2010 census population data, and \n",
    "-            . American Community Survey (ACS) 2013-2017, 2012-2016 estimates\n",
    "\n",
    "We are using structured dataset we have obtained from CDC website\n",
    "\n",
    "PREDICTING:Emerging Health Problems in 500 cities in the US.\n",
    "\n",
    "FEATURES:State, CityName, GeoLocation, Population Count,caterory,measure,Crude Prevalance  \n",
    "\n",
    "TARGET: datavalue\n",
    "\n",
    "We are using a supervised model and trying to predict using regression model.\n",
    "\n",
    "we are using multiple features such as the city/census tract, measures of cronic illness,population count to define the target.\n",
    "\n",
    "Either way, keep in mind that in the process, you need to learn about different domains.\n",
    "\n",
    "- [X] Clearly state your data source.\n",
    "- [X] What type of data do you have? \n",
    "    - Structured/Unstructured.\n",
    "- [X] What are you predicting?\n",
    "- [X] What are your features? \n",
    "- [X] What is your target? \n",
    "- [X] What type of problem is it? \n",
    "    - [X] Supervised/Unsupervised? \n",
    "    - [X] Classification/Regression? \n",
    "- [X] If you have to combine features to define the target, discuss that here.\n",
    "- [X] Do you need to combine multiple data sources? - NO \n",
    "- [X] Articulate the final outcome that you hope to achieve with this analysis"
   ]
  },
  {
   "cell_type": "markdown",
   "metadata": {},
   "source": [
    "## Step 2: Data Acquisition\n",
    "\n",
    "we are using the data set from CDC.\n",
    "https://chronicdata.cdc.gov/500-Cities-Places/500-Cities-Local-Data-for-Better-Health-2019-relea/6vp6-wxuq\n",
    "\n",
    "In this section you will talk about how you found the data. \n",
    "\n",
    "- [X] Make sure that you mention the source of your data.\n",
    "- [ ] If you are using multiple datasets, make sure you mention the source of all of those datasets. - NO\n",
    "and mention why you are using the datsets \n"
   ]
  },
  {
   "cell_type": "code",
   "execution_count": null,
   "metadata": {},
   "outputs": [],
   "source": []
  }
 ],
 "metadata": {
  "kernelspec": {
   "display_name": "Python 3",
   "language": "python",
   "name": "python3"
  },
  "language_info": {
   "codemirror_mode": {
    "name": "ipython",
    "version": 3
   },
   "file_extension": ".py",
   "mimetype": "text/x-python",
   "name": "python",
   "nbconvert_exporter": "python",
   "pygments_lexer": "ipython3",
   "version": "3.7.6"
  }
 },
 "nbformat": 4,
 "nbformat_minor": 4
}
