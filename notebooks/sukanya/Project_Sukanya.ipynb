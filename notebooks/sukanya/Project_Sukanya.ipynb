{
 "cells": [
  {
   "cell_type": "code",
   "execution_count": 1,
   "metadata": {},
   "outputs": [],
   "source": [
    "#Import\n"
   ]
  },
  {
   "cell_type": "markdown",
   "metadata": {},
   "source": [
    "### Step 1: Problem statement"
   ]
  },
  {
   "cell_type": "code",
   "execution_count": null,
   "metadata": {},
   "outputs": [],
   "source": []
  },
  {
   "cell_type": "markdown",
   "metadata": {},
   "source": [
    "### Step 2: Data Acquisition"
   ]
  },
  {
   "cell_type": "markdown",
   "metadata": {},
   "source": [
    "DataSource : https://chronicdata.cdc.gov/500-Cities-Places/500-Cities-Local-Data-for-Better-Health-2019-relea/6vp6-wxuq"
   ]
  },
  {
   "cell_type": "markdown",
   "metadata": {},
   "source": [
    "### Step 3: Data Dictionary"
   ]
  },
  {
   "cell_type": "code",
   "execution_count": null,
   "metadata": {},
   "outputs": [],
   "source": [
    "| original column name  | column name           | description                    | datatype |\n",
    "|-----------------------|-----------------------|--------------------------------|----------|\n",
    "| Year                  | year                  | year                           | int      |\n",
    "| StateAbbr             | state                 | state abbrevation              | string   |\n",
    "| StateDesc             | state_name            | state name                     | string   |\n",
    "| CityName              | city_name             | city name                      | string   |\n",
    "| GeographicalLevel     | geographical_level    | US/City/Census Tract           | string   |\n",
    "| DataSource            | data_source           | data_source                    | string   |\n",
    "| Category              | category              | topic                          | string   |\n",
    "| UniqueId              | unique_id             | cityFIPS/tractFIPS             | string   |\n",
    "| Measure               | measure               | measure full name              | string   |\n",
    "| Data_Value_Unit       | unit                  | data value unit % for percent  | string   |\n",
    "| DataValueTypeID       | data_type_id          | identifier for data value type | string   |\n",
    "| Data_Value_Type       | data_type             | data type                      | string   |\n",
    "| Data_Value            | data                  | data value                     | int      |\n",
    "| Low_Confidence_Limit  | low_confidence_limit  | low confidence limit           | int      |\n",
    "| High_Confidence_Limit | high_confidence_limit | high confidence limit          | int      |"
   ]
  }
 ],
 "metadata": {
  "kernelspec": {
   "display_name": "Python 3",
   "language": "python",
   "name": "python3"
  },
  "language_info": {
   "codemirror_mode": {
    "name": "ipython",
    "version": 3
   },
   "file_extension": ".py",
   "mimetype": "text/x-python",
   "name": "python",
   "nbconvert_exporter": "python",
   "pygments_lexer": "ipython3",
   "version": "3.8.5"
  }
 },
 "nbformat": 4,
 "nbformat_minor": 4
}
